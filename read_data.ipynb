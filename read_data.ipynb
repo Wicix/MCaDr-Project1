{
 "cells": [
  {
   "cell_type": "code",
   "execution_count": 16,
   "metadata": {},
   "outputs": [],
   "source": [
    "import numpy as np\n",
    "from matplotlib import pyplot as plt\n",
    "from sklearn.model_selection import train_test_split"
   ]
  },
  {
   "cell_type": "markdown",
   "metadata": {},
   "source": [
    "Wczytanie danych i podział na dane treningowe i testowe"
   ]
  },
  {
   "cell_type": "code",
   "execution_count": 74,
   "metadata": {},
   "outputs": [],
   "source": [
    "ratings = np.genfromtxt(\"ml-latest-small/ratings.csv\", delimiter=',', skip_header=1,dtype=int)[:,0:3]\n",
    "ratings.sort(axis=0)\n",
    "train_ratio = 0.9\n",
    "x = ratings[:,1:]\n",
    "y = ratings[:,0]\n",
    "\n",
    "x_train, x_test, y_train, y_test = train_test_split(x, y, stratify=y, test_size= 1-train_ratio, random_state= 10)\n",
    "training_ratings = np.column_stack((y_train,x_train))\n",
    "test_ratings = np.column_stack((y_test,x_test))\n",
    "np.savetxt(\"training_ratings.csv\",np.column_stack((y_train,x_train)), delimiter = \",\")\n",
    "np.savetxt(\"test_ratings.csv\",np.column_stack((y_test,x_test)), delimiter = \",\")"
   ]
  }
 ],
 "metadata": {
  "interpreter": {
   "hash": "273e6a81b8b462d0a043da306af327a1825bf23f508fb66a37c062f7202dc677"
  },
  "kernelspec": {
   "display_name": "Python 3.10.2 64-bit",
   "language": "python",
   "name": "python3"
  },
  "language_info": {
   "codemirror_mode": {
    "name": "ipython",
    "version": 3
   },
   "file_extension": ".py",
   "mimetype": "text/x-python",
   "name": "python",
   "nbconvert_exporter": "python",
   "pygments_lexer": "ipython3",
   "version": "3.10.2"
  },
  "orig_nbformat": 4
 },
 "nbformat": 4,
 "nbformat_minor": 2
}
